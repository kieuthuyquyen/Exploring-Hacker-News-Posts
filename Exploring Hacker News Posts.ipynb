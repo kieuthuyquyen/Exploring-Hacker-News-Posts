{
 "cells": [
  {
   "cell_type": "markdown",
   "id": "f6177b2a",
   "metadata": {},
   "source": [
    "<h1> Finding best time to post a new topic on Hacker News website </h1>\n",
    "\n",
    "Hacker News is a popular site among startup and technology circles, where people can post stories and receive votes and comments from others. \n",
    "Users submit Ask HN posts to ask the Hacker News community a specific question. Similarly, users submit Show HN posts to share a project, product, or something interesting. All other types of posts are captured under Other.\n",
    "\n",
    "In this project, we focus on answering the following two questions:\n",
    "- Do Ask HN or Show HN receive more points and comments on average?\n",
    "- Do posts created at a certain time receive more points and comments on average?\n",
    "\n",
    "Source of data: https://www.kaggle.com/hacker-news/hacker-news-posts\n",
    "\n",
    "---------------\n",
    "Below are descriptions of the columns:\n",
    "\n",
    "- id: the unique identifier from Hacker News for the post\n",
    "- title: the title of the post\n",
    "- url: the URL that the posts links to, if the post has a URL\n",
    "- num_points: the number of points the post acquired, calculated as the total number of upvotes minus the total number of downvotes\n",
    "- num_comments: the number of comments on the post\n",
    "- author: the username of the person who submitted the post\n",
    "- created_at: the date and time of the post's submission"
   ]
  },
  {
   "cell_type": "markdown",
   "id": "c73dbb90",
   "metadata": {},
   "source": [
    "## I. Reading and exploring data"
   ]
  },
  {
   "cell_type": "code",
   "execution_count": 1,
   "id": "ae02c809",
   "metadata": {},
   "outputs": [],
   "source": [
    "import pandas as pd\n",
    "import numpy as np\n",
    "import matplotlib.pyplot as plt\n",
    "%matplotlib inline\n",
    "\n",
    "import warnings\n",
    "warnings.filterwarnings(\"ignore\")"
   ]
  },
  {
   "cell_type": "code",
   "execution_count": 2,
   "id": "4d7d2f27",
   "metadata": {},
   "outputs": [],
   "source": [
    "hn = pd.read_csv('HN_posts_year_to_Sep_26_2016.csv')"
   ]
  },
  {
   "cell_type": "code",
   "execution_count": 3,
   "id": "3daef712",
   "metadata": {},
   "outputs": [
    {
     "data": {
      "text/plain": [
       "(293119, 7)"
      ]
     },
     "execution_count": 3,
     "metadata": {},
     "output_type": "execute_result"
    }
   ],
   "source": [
    "hn.shape"
   ]
  },
  {
   "cell_type": "code",
   "execution_count": 4,
   "id": "70b5e361",
   "metadata": {},
   "outputs": [
    {
     "data": {
      "text/plain": [
       "Index(['id', 'title', 'url', 'num_points', 'num_comments', 'author',\n",
       "       'created_at'],\n",
       "      dtype='object')"
      ]
     },
     "execution_count": 4,
     "metadata": {},
     "output_type": "execute_result"
    }
   ],
   "source": [
    "hn.columns"
   ]
  },
  {
   "cell_type": "code",
   "execution_count": 5,
   "id": "32967125",
   "metadata": {},
   "outputs": [
    {
     "data": {
      "text/html": [
       "<div>\n",
       "<style scoped>\n",
       "    .dataframe tbody tr th:only-of-type {\n",
       "        vertical-align: middle;\n",
       "    }\n",
       "\n",
       "    .dataframe tbody tr th {\n",
       "        vertical-align: top;\n",
       "    }\n",
       "\n",
       "    .dataframe thead th {\n",
       "        text-align: right;\n",
       "    }\n",
       "</style>\n",
       "<table border=\"1\" class=\"dataframe\">\n",
       "  <thead>\n",
       "    <tr style=\"text-align: right;\">\n",
       "      <th></th>\n",
       "      <th>id</th>\n",
       "      <th>title</th>\n",
       "      <th>url</th>\n",
       "      <th>num_points</th>\n",
       "      <th>num_comments</th>\n",
       "      <th>author</th>\n",
       "      <th>created_at</th>\n",
       "    </tr>\n",
       "  </thead>\n",
       "  <tbody>\n",
       "    <tr>\n",
       "      <th>0</th>\n",
       "      <td>12579008</td>\n",
       "      <td>You have two days to comment if you want stem ...</td>\n",
       "      <td>http://www.regulations.gov/document?D=FDA-2015...</td>\n",
       "      <td>1</td>\n",
       "      <td>0</td>\n",
       "      <td>altstar</td>\n",
       "      <td>9/26/2016 3:26</td>\n",
       "    </tr>\n",
       "    <tr>\n",
       "      <th>1</th>\n",
       "      <td>12579005</td>\n",
       "      <td>SQLAR  the SQLite Archiver</td>\n",
       "      <td>https://www.sqlite.org/sqlar/doc/trunk/README.md</td>\n",
       "      <td>1</td>\n",
       "      <td>0</td>\n",
       "      <td>blacksqr</td>\n",
       "      <td>9/26/2016 3:24</td>\n",
       "    </tr>\n",
       "    <tr>\n",
       "      <th>2</th>\n",
       "      <td>12578997</td>\n",
       "      <td>What if we just printed a flatscreen televisio...</td>\n",
       "      <td>https://medium.com/vanmoof/our-secrets-out-f21...</td>\n",
       "      <td>1</td>\n",
       "      <td>0</td>\n",
       "      <td>pavel_lishin</td>\n",
       "      <td>9/26/2016 3:19</td>\n",
       "    </tr>\n",
       "    <tr>\n",
       "      <th>3</th>\n",
       "      <td>12578989</td>\n",
       "      <td>algorithmic music</td>\n",
       "      <td>http://cacm.acm.org/magazines/2011/7/109891-al...</td>\n",
       "      <td>1</td>\n",
       "      <td>0</td>\n",
       "      <td>poindontcare</td>\n",
       "      <td>9/26/2016 3:16</td>\n",
       "    </tr>\n",
       "    <tr>\n",
       "      <th>4</th>\n",
       "      <td>12578979</td>\n",
       "      <td>How the Data Vault Enables the Next-Gen Data W...</td>\n",
       "      <td>https://www.talend.com/blog/2016/05/12/talend-...</td>\n",
       "      <td>1</td>\n",
       "      <td>0</td>\n",
       "      <td>markgainor1</td>\n",
       "      <td>9/26/2016 3:14</td>\n",
       "    </tr>\n",
       "  </tbody>\n",
       "</table>\n",
       "</div>"
      ],
      "text/plain": [
       "         id                                              title  \\\n",
       "0  12579008  You have two days to comment if you want stem ...   \n",
       "1  12579005                         SQLAR  the SQLite Archiver   \n",
       "2  12578997  What if we just printed a flatscreen televisio...   \n",
       "3  12578989                                  algorithmic music   \n",
       "4  12578979  How the Data Vault Enables the Next-Gen Data W...   \n",
       "\n",
       "                                                 url  num_points  \\\n",
       "0  http://www.regulations.gov/document?D=FDA-2015...           1   \n",
       "1   https://www.sqlite.org/sqlar/doc/trunk/README.md           1   \n",
       "2  https://medium.com/vanmoof/our-secrets-out-f21...           1   \n",
       "3  http://cacm.acm.org/magazines/2011/7/109891-al...           1   \n",
       "4  https://www.talend.com/blog/2016/05/12/talend-...           1   \n",
       "\n",
       "   num_comments        author      created_at  \n",
       "0             0       altstar  9/26/2016 3:26  \n",
       "1             0      blacksqr  9/26/2016 3:24  \n",
       "2             0  pavel_lishin  9/26/2016 3:19  \n",
       "3             0  poindontcare  9/26/2016 3:16  \n",
       "4             0   markgainor1  9/26/2016 3:14  "
      ]
     },
     "execution_count": 5,
     "metadata": {},
     "output_type": "execute_result"
    }
   ],
   "source": [
    "hn.head()"
   ]
  },
  {
   "cell_type": "code",
   "execution_count": 6,
   "id": "39faf17e",
   "metadata": {},
   "outputs": [
    {
     "name": "stdout",
     "output_type": "stream",
     "text": [
      "<class 'pandas.core.frame.DataFrame'>\n",
      "RangeIndex: 293119 entries, 0 to 293118\n",
      "Data columns (total 7 columns):\n",
      " #   Column        Non-Null Count   Dtype \n",
      "---  ------        --------------   ----- \n",
      " 0   id            293119 non-null  int64 \n",
      " 1   title         293119 non-null  object\n",
      " 2   url           279256 non-null  object\n",
      " 3   num_points    293119 non-null  int64 \n",
      " 4   num_comments  293119 non-null  int64 \n",
      " 5   author        293119 non-null  object\n",
      " 6   created_at    293119 non-null  object\n",
      "dtypes: int64(3), object(4)\n",
      "memory usage: 15.7+ MB\n"
     ]
    }
   ],
   "source": [
    "hn.info()"
   ]
  },
  {
   "cell_type": "markdown",
   "id": "6d3d0f09",
   "metadata": {},
   "source": [
    "## II. Clean data"
   ]
  },
  {
   "cell_type": "markdown",
   "id": "a5ed9a80",
   "metadata": {},
   "source": [
    "#### While exploring the dataset, we can easily see that the \"created_at\" column is currently not DateTime type, so we'll start our cleaning by converting this field to the correct format."
   ]
  },
  {
   "cell_type": "code",
   "execution_count": 7,
   "id": "ea7c84b2",
   "metadata": {},
   "outputs": [
    {
     "name": "stdout",
     "output_type": "stream",
     "text": [
      "<class 'pandas.core.frame.DataFrame'>\n",
      "RangeIndex: 293119 entries, 0 to 293118\n",
      "Data columns (total 7 columns):\n",
      " #   Column        Non-Null Count   Dtype         \n",
      "---  ------        --------------   -----         \n",
      " 0   id            293119 non-null  int64         \n",
      " 1   title         293119 non-null  object        \n",
      " 2   url           279256 non-null  object        \n",
      " 3   num_points    293119 non-null  int64         \n",
      " 4   num_comments  293119 non-null  int64         \n",
      " 5   author        293119 non-null  object        \n",
      " 6   created_at    293119 non-null  datetime64[ns]\n",
      "dtypes: datetime64[ns](1), int64(3), object(3)\n",
      "memory usage: 15.7+ MB\n"
     ]
    }
   ],
   "source": [
    "# Convert \"created_at\" column to datetime \n",
    "\n",
    "hn.created_at = pd.to_datetime(hn.created_at)\n",
    "\n",
    "hn.info()"
   ]
  },
  {
   "cell_type": "markdown",
   "id": "4924acb0",
   "metadata": {},
   "source": [
    "#### For the purposes of our analysis, it makes more sense if we only focus on posts that recieved comments. So in this step, we'll remove all submissions that didn't get any comments. "
   ]
  },
  {
   "cell_type": "code",
   "execution_count": 8,
   "id": "2d5f29a5",
   "metadata": {},
   "outputs": [
    {
     "data": {
      "text/plain": [
       "(80401, 7)"
      ]
     },
     "execution_count": 8,
     "metadata": {},
     "output_type": "execute_result"
    }
   ],
   "source": [
    "hn = hn[hn.num_comments > 0]\n",
    "\n",
    "hn.shape"
   ]
  },
  {
   "cell_type": "markdown",
   "id": "124bb7ce",
   "metadata": {},
   "source": [
    "## III. Analyse data"
   ]
  },
  {
   "cell_type": "markdown",
   "id": "4b2d7839",
   "metadata": {},
   "source": [
    "#### Now that we have the cleaned list of 80401 records (reduced from 293119), let's start analysing data by separating it into 2 lists of Ask and Show posts first."
   ]
  },
  {
   "cell_type": "code",
   "execution_count": 9,
   "id": "20fc5be1",
   "metadata": {},
   "outputs": [],
   "source": [
    "# Converting the title into lower case to avoid any possible mistake relating to case-sensitive\n",
    "\n",
    "hn.title = hn.title.str.lower()"
   ]
  },
  {
   "cell_type": "code",
   "execution_count": 10,
   "id": "2ae3178a",
   "metadata": {},
   "outputs": [],
   "source": [
    "# Creating separate lists for Ask HN and Show HN posts\n",
    "\n",
    "ask_hn = hn[hn.title.str.startswith('ask hn')== True]\n",
    "show_hn = hn[hn.title.str.startswith('show hn')== True]"
   ]
  },
  {
   "cell_type": "markdown",
   "id": "88451624",
   "metadata": {},
   "source": [
    "### 1. More engagement by post type"
   ]
  },
  {
   "cell_type": "markdown",
   "id": "95fb3097",
   "metadata": {},
   "source": [
    "#### In this step, we'll calculate the average number of points and comments for each type of post to see which one received more"
   ]
  },
  {
   "cell_type": "code",
   "execution_count": 11,
   "id": "4e4a7f02",
   "metadata": {},
   "outputs": [
    {
     "name": "stdout",
     "output_type": "stream",
     "text": [
      "Average number of points on ask posts:  14.4\n",
      "Average number of points on show posts:  26.62\n"
     ]
    }
   ],
   "source": [
    "avg_ask_point = round(ask_hn.num_points.mean(),2)\n",
    "avg_show_point = round(show_hn.num_points.mean(),2)\n",
    "\n",
    "print('Average number of points on ask posts: ', avg_ask_point)\n",
    "print('Average number of points on show posts: ', avg_show_point)"
   ]
  },
  {
   "cell_type": "code",
   "execution_count": 12,
   "id": "87796c7e",
   "metadata": {},
   "outputs": [
    {
     "name": "stdout",
     "output_type": "stream",
     "text": [
      "Average number of comments on ask posts:  13.74\n",
      "Average number of comments on show posts:  9.81\n"
     ]
    }
   ],
   "source": [
    "avg_ask_comments = round(ask_hn.num_comments.mean(),2)\n",
    "avg_show_comments = round(show_hn.num_comments.mean(),2)\n",
    "\n",
    "print('Average number of comments on ask posts: ', avg_ask_comments)\n",
    "print('Average number of comments on show posts: ', avg_show_comments)"
   ]
  },
  {
   "cell_type": "markdown",
   "id": "061d0150",
   "metadata": {},
   "source": [
    "<p style='background:yellow'>We can see that ask posts received less points but more comments than shows posts on average. Our purpose is to identify which type of content gets more community engagement, so comment seem to be more important than point for this analysis. But for now, let's just continue by analyzing other factors in both lists first and decide when we have more insight.</p>"
   ]
  },
  {
   "cell_type": "markdown",
   "id": "0f5930bd",
   "metadata": {},
   "source": [
    "### 2. More engagement by day and time created"
   ]
  },
  {
   "cell_type": "markdown",
   "id": "755802eb",
   "metadata": {},
   "source": [
    "Moving forward, we'll determine if posts created at a certain day and time are more likely to attract people's engagement. \n",
    "We'll follow the below steps to perform this analysis:\n",
    "- Identify the day of week and hour of the day a post was created\n",
    "- Calculate the average number of points and comments each post received based on day and hour created"
   ]
  },
  {
   "cell_type": "code",
   "execution_count": 13,
   "id": "f72125af",
   "metadata": {},
   "outputs": [
    {
     "data": {
      "text/html": [
       "<div>\n",
       "<style scoped>\n",
       "    .dataframe tbody tr th:only-of-type {\n",
       "        vertical-align: middle;\n",
       "    }\n",
       "\n",
       "    .dataframe tbody tr th {\n",
       "        vertical-align: top;\n",
       "    }\n",
       "\n",
       "    .dataframe thead th {\n",
       "        text-align: right;\n",
       "    }\n",
       "</style>\n",
       "<table border=\"1\" class=\"dataframe\">\n",
       "  <thead>\n",
       "    <tr style=\"text-align: right;\">\n",
       "      <th></th>\n",
       "      <th>id</th>\n",
       "      <th>title</th>\n",
       "      <th>url</th>\n",
       "      <th>num_points</th>\n",
       "      <th>num_comments</th>\n",
       "      <th>author</th>\n",
       "      <th>created_at</th>\n",
       "      <th>day_of_week</th>\n",
       "      <th>created_hour</th>\n",
       "    </tr>\n",
       "  </thead>\n",
       "  <tbody>\n",
       "    <tr>\n",
       "      <th>140</th>\n",
       "      <td>12577142</td>\n",
       "      <td>show hn: jumble  essays on the go #paulinyourp...</td>\n",
       "      <td>https://itunes.apple.com/us/app/jumble-find-st...</td>\n",
       "      <td>1</td>\n",
       "      <td>1</td>\n",
       "      <td>ryderj</td>\n",
       "      <td>2016-09-25 20:06:00</td>\n",
       "      <td>6</td>\n",
       "      <td>20</td>\n",
       "    </tr>\n",
       "    <tr>\n",
       "      <th>177</th>\n",
       "      <td>12576813</td>\n",
       "      <td>show hn: learn japanese vocab via multiple cho...</td>\n",
       "      <td>http://japanese.vul.io/</td>\n",
       "      <td>1</td>\n",
       "      <td>1</td>\n",
       "      <td>soulchild37</td>\n",
       "      <td>2016-09-25 19:06:00</td>\n",
       "      <td>6</td>\n",
       "      <td>19</td>\n",
       "    </tr>\n",
       "    <tr>\n",
       "      <th>246</th>\n",
       "      <td>12576090</td>\n",
       "      <td>show hn: markov chain twitter bot. trained on ...</td>\n",
       "      <td>https://twitter.com/botsonasty</td>\n",
       "      <td>3</td>\n",
       "      <td>1</td>\n",
       "      <td>keepingscore</td>\n",
       "      <td>2016-09-25 16:50:00</td>\n",
       "      <td>6</td>\n",
       "      <td>16</td>\n",
       "    </tr>\n",
       "  </tbody>\n",
       "</table>\n",
       "</div>"
      ],
      "text/plain": [
       "           id                                              title  \\\n",
       "140  12577142  show hn: jumble  essays on the go #paulinyourp...   \n",
       "177  12576813  show hn: learn japanese vocab via multiple cho...   \n",
       "246  12576090  show hn: markov chain twitter bot. trained on ...   \n",
       "\n",
       "                                                   url  num_points  \\\n",
       "140  https://itunes.apple.com/us/app/jumble-find-st...           1   \n",
       "177                            http://japanese.vul.io/           1   \n",
       "246                     https://twitter.com/botsonasty           3   \n",
       "\n",
       "     num_comments        author          created_at  day_of_week  created_hour  \n",
       "140             1        ryderj 2016-09-25 20:06:00            6            20  \n",
       "177             1   soulchild37 2016-09-25 19:06:00            6            19  \n",
       "246             1  keepingscore 2016-09-25 16:50:00            6            16  "
      ]
     },
     "execution_count": 13,
     "metadata": {},
     "output_type": "execute_result"
    }
   ],
   "source": [
    "# Creating a new column to mark the day a post was created (with 0 and 6 representing Monday and Sunday respectively)\n",
    "ask_hn['day_of_week'] = hn.created_at.dt.dayofweek\n",
    "show_hn['day_of_week'] = hn.created_at.dt.dayofweek\n",
    "\n",
    "# Creating a new column to identify which hour of the day each post was created\n",
    "ask_hn['created_hour'] = hn.created_at.dt.hour\n",
    "show_hn['created_hour'] = hn.created_at.dt.hour\n",
    "\n",
    "ask_hn.head(3)\n",
    "show_hn.head(3)"
   ]
  },
  {
   "cell_type": "code",
   "execution_count": 15,
   "id": "479ade65",
   "metadata": {
    "scrolled": true
   },
   "outputs": [
    {
     "data": {
      "text/plain": [
       "day_of_week  created_hour\n",
       "6            12              43.562500\n",
       "             17              38.666667\n",
       "             13              26.184211\n",
       "5            2               33.800000\n",
       "             17              28.531915\n",
       "             22              26.821429\n",
       "4            7               41.000000\n",
       "             15              40.726027\n",
       "             13              35.603774\n",
       "3            15              26.975610\n",
       "             11              22.296296\n",
       "             18              22.257576\n",
       "2            13              37.076923\n",
       "             15              25.406977\n",
       "             10              23.735294\n",
       "1            15              22.776119\n",
       "             13              22.636364\n",
       "             10              17.758621\n",
       "0            15              50.828125\n",
       "             4               41.291667\n",
       "             1               26.848485\n",
       "Name: num_points, dtype: float64"
      ]
     },
     "execution_count": 15,
     "metadata": {},
     "output_type": "execute_result"
    }
   ],
   "source": [
    "# Calculating the average number of points Ask posts received by day and hour created.\n",
    "\n",
    "ask_pointsByHour = ask_hn.groupby(['day_of_week','created_hour']).mean('num_points').sort_values(['day_of_week','num_points'], ascending= False).num_points\n",
    "top_ask_pointsByHour = ask_pointsByHour.groupby('day_of_week').head(3)\n",
    "\n",
    "top_ask_pointsByHour"
   ]
  },
  {
   "cell_type": "markdown",
   "id": "d460a36d",
   "metadata": {},
   "source": [
    "<p style='background:yellow'>Interestingly, Monday was the day that received the highest interaction from people, and 15:00 was the best time for an ask post, based on the number of votes (represented by num_points). Coming second was the 12:00 timeslot on Sunday. </p>"
   ]
  },
  {
   "cell_type": "code",
   "execution_count": 19,
   "id": "9de87a5b",
   "metadata": {},
   "outputs": [
    {
     "data": {
      "text/plain": [
       "day_of_week  created_hour\n",
       "6            12              36.718750\n",
       "             20              24.250000\n",
       "             22              21.675676\n",
       "5            2               46.440000\n",
       "             22              22.107143\n",
       "             12              20.611111\n",
       "4            15              52.561644\n",
       "             13              39.283019\n",
       "             7               25.666667\n",
       "3            15              41.768293\n",
       "             11              18.407407\n",
       "             14              14.909091\n",
       "2            15              29.674419\n",
       "             13              20.980769\n",
       "             10              20.823529\n",
       "1            15              34.477612\n",
       "             13              27.054545\n",
       "             17              19.962500\n",
       "0            15              79.703125\n",
       "             4               34.208333\n",
       "             5               27.111111\n",
       "Name: num_comments, dtype: float64"
      ]
     },
     "execution_count": 19,
     "metadata": {},
     "output_type": "execute_result"
    }
   ],
   "source": [
    "# Calculating the average number of comments Ask posts received by day and hour created\n",
    "\n",
    "ask_commentsByHour = ask_hn.groupby(['day_of_week','created_hour']).mean('num_comments').sort_values(['day_of_week','num_comments'], ascending= False).num_comments\n",
    "top_ask_commentsByHour = ask_commentsByHour.groupby('day_of_week').head(3)\n",
    "\n",
    "top_ask_commentsByHour"
   ]
  },
  {
   "cell_type": "markdown",
   "id": "ea6f26ed",
   "metadata": {},
   "source": [
    "<p style='background:yellow'>15:00 on Monday seems to be the golden time for asking questions on the Hacker News website. It again appears to be the time that received the highest average number of comments (79.7) from users. Following this was the 15:00 timeslot on Friday (52.56). </p>"
   ]
  },
  {
   "cell_type": "code",
   "execution_count": 21,
   "id": "12a3a77a",
   "metadata": {},
   "outputs": [
    {
     "data": {
      "text/plain": [
       "day_of_week  created_hour\n",
       "6            22              87.428571\n",
       "             19              49.437500\n",
       "             23              35.666667\n",
       "5            8               61.250000\n",
       "             20              48.185185\n",
       "             17              36.444444\n",
       "4            18              58.909091\n",
       "             13              54.864865\n",
       "             23              49.916667\n",
       "3            2               61.818182\n",
       "             6               51.300000\n",
       "             7               47.142857\n",
       "2            11              58.978723\n",
       "             17              40.327273\n",
       "             15              33.149254\n",
       "1            21              63.800000\n",
       "             6               50.722222\n",
       "             16              43.367816\n",
       "0            0               77.000000\n",
       "             12              57.423077\n",
       "             23              47.190476\n",
       "Name: num_points, dtype: float64"
      ]
     },
     "execution_count": 21,
     "metadata": {},
     "output_type": "execute_result"
    }
   ],
   "source": [
    "# Calculating the average number of points Show posts received by day and hour created.\n",
    "\n",
    "show_pointsByHour = show_hn.groupby(['day_of_week','created_hour']).mean('num_points').sort_values(['day_of_week','num_points'], ascending= False).num_points\n",
    "top_show_pointsByHour = show_pointsByHour.groupby('day_of_week').head(3)\n",
    "\n",
    "top_show_pointsByHour"
   ]
  },
  {
   "cell_type": "markdown",
   "id": "1930cee3",
   "metadata": {},
   "source": [
    "<p style='background:yellow'>As we also noticed before, Show posts got higher points than Ask posts in general. Following are the five best timeslots to share your work/ story with the Hacker News community (in order from highest to lower): Sunday 22:00, Monday 00:00, Tuesday 21:00, Thursday 2:00, and Saturday 8:00. <p>"
   ]
  },
  {
   "cell_type": "code",
   "execution_count": 23,
   "id": "70412955",
   "metadata": {},
   "outputs": [
    {
     "data": {
      "text/plain": [
       "day_of_week  created_hour\n",
       "6            19              14.750000\n",
       "             3               14.583333\n",
       "             22              13.142857\n",
       "5            8               31.812500\n",
       "             16              14.576923\n",
       "             15              13.000000\n",
       "4            18              20.500000\n",
       "             12              19.064516\n",
       "             4               18.875000\n",
       "3            7               35.500000\n",
       "             2               16.090909\n",
       "             19              13.934783\n",
       "2            11              15.680851\n",
       "             15              14.417910\n",
       "             8               13.967742\n",
       "1            6               15.888889\n",
       "             21              14.300000\n",
       "             14              13.983607\n",
       "0            2               20.750000\n",
       "             23              20.523810\n",
       "             12              19.403846\n",
       "Name: num_comments, dtype: float64"
      ]
     },
     "execution_count": 23,
     "metadata": {},
     "output_type": "execute_result"
    }
   ],
   "source": [
    "# Calculating the average number of points Show posts received by day and hour created.\n",
    "\n",
    "show_commentsByHour = show_hn.groupby(['day_of_week','created_hour']).mean('num_comments').sort_values(['day_of_week','num_comments'], ascending= False).num_comments\n",
    "top_show_commentsByHour=show_commentsByHour.groupby('day_of_week').head(3)\n",
    "\n",
    "top_show_commentsByHour"
   ]
  },
  {
   "cell_type": "markdown",
   "id": "cbdde157",
   "metadata": {},
   "source": [
    "<p style='background:yellow'>The average number of comments for Shows posts was relatively much lower than Ask posts. For Show posts, the hour that received the most comments were Thursday 7:00 and Saturday 8:00. So if we want to balance between points and reviews, 8 AM on Saturday seems to be the best time for a Show post. <p>"
   ]
  },
  {
   "cell_type": "markdown",
   "id": "d0ffd954",
   "metadata": {},
   "source": [
    "## IV. Conclusion"
   ]
  },
  {
   "cell_type": "markdown",
   "id": "d8af0c6f",
   "metadata": {},
   "source": [
    "Our main goal for this project is to compare two types of posts to answer the two questions:\n",
    "- Do Ask HN or Show HN receive more points and comments on average?\n",
    "- Do posts created at a certain time receive more points and comments on average?\n",
    "\n",
    "Based on our analysis, we found out that on average, **Ask HN received more comments than Show HN** (13.74 vs 9.81), but **Show HN received more points (26.62) compared to Ask HN (14.4)**. So it depends on what type of engagement we want to achieve, we can choose to post an Ask post or a Show post accordingly. \n",
    "\n",
    "**Regarding the second question, we also found two timeslots that were likely to get the highest user engagement for each type of post:**\n",
    "- Ask HN: Monday 15:00\n",
    "- Show HN: Saturday 8:00\n",
    "\n",
    "**Some other good days and timeslots to consider:**\n",
    "\n",
    "To get a higher point:\n",
    "- Ask HN: Sunday 12:00 (43.56), Monday 4:00 (41.29), and Friday 7:00 (41)\n",
    "- Show HN: Sunday 22:00 (87.43), Monday 00:00 (77), Tuesday 21:00 (63.8), Thursday 2:00 (61.82)\n",
    "\n",
    "To get more comments:\n",
    "- Ask HN: Friday 15:00 (52.56), Saturday 2:00 (46.44), and Thursday 15:00 (41.77)\n",
    "- Show HN: Thursday 7:00 (35.5), Monday 2:00 (20.75), and Monday 23:00 (20.53)\n"
   ]
  }
 ],
 "metadata": {
  "kernelspec": {
   "display_name": "Python 3",
   "language": "python",
   "name": "python3"
  },
  "language_info": {
   "codemirror_mode": {
    "name": "ipython",
    "version": 3
   },
   "file_extension": ".py",
   "mimetype": "text/x-python",
   "name": "python",
   "nbconvert_exporter": "python",
   "pygments_lexer": "ipython3",
   "version": "3.8.8"
  }
 },
 "nbformat": 4,
 "nbformat_minor": 5
}
